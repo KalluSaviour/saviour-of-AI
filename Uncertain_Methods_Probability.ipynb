{
  "nbformat": 4,
  "nbformat_minor": 0,
  "metadata": {
    "colab": {
      "name": "Uncertain_Methods_Probability.ipynb",
      "provenance": []
    },
    "kernelspec": {
      "name": "python3",
      "display_name": "Python 3"
    },
    "language_info": {
      "name": "python"
    }
  },
  "cells": [
    {
      "cell_type": "code",
      "execution_count": 5,
      "metadata": {
        "colab": {
          "base_uri": "https://localhost:8080/"
        },
        "id": "VUNdFrUhn0Pq",
        "outputId": "274f2006-a2ea-4a92-80be-94ca76ddfcb0"
      },
      "outputs": [
        {
          "output_type": "stream",
          "name": "stdout",
          "text": [
            "output-1: 28.57142857142857\n",
            "output-2: 50.0%\n"
          ]
        }
      ],
      "source": [
        "#Calculate the Probability of finding how many students got the 60 marks for given data set.\n",
        "\n",
        "import numpy as np \n",
        "import collections\n",
        "npArray= np.array([60, 70, 70, 70, 80,90,60])\n",
        "c=collections.Counter(npArray)\n",
        "arraySize=npArray.size\n",
        "nbOfOccurrences=c[60] \n",
        "proba=(nbOfOccurrences/arraySize)*100\n",
        "print(\"output-1:\",proba) \n",
        "\n",
        "#If In class 80 students and 60 students got 60 % marks then Calculate the Probability of finding how many students got the 60 marks for given data set .\n",
        "\n",
        "import sys\n",
        "Marksprob = {}\n",
        "for line in sys.stdin: \n",
        "  line = line.strip()\n",
        "  ClassA, Marks = line.split('\\t', 1)\n",
        "def event_probability(event_outcomes, sample_space): \n",
        "  probability = (event_outcomes / sample_space) * 100 \n",
        "  return round(probability, 1)\n",
        "ClassA = 30\n",
        "Marks = 15\n",
        "grade_probability = event_probability(Marks, ClassA) \n",
        "print(\"output-2:\",str(grade_probability) + '%')\n"
      ]
    }
  ]
}