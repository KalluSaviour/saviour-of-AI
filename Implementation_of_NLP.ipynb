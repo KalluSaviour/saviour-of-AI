{
  "nbformat": 4,
  "nbformat_minor": 0,
  "metadata": {
    "colab": {
      "name": "Implementation_of_NLP.ipynb",
      "provenance": [],
      "collapsed_sections": []
    },
    "kernelspec": {
      "name": "python3",
      "display_name": "Python 3"
    },
    "language_info": {
      "name": "python"
    }
  },
  "cells": [
    {
      "cell_type": "code",
      "source": [
        "import nltk\n",
        "nltk.download('twitter_samples')\n",
        "nltk.download('averaged_perceptron_tagger')\n",
        "#import data and tagger\n",
        "from nltk.corpus import twitter_samples\n",
        "from nltk.tag import pos_tag_sents\n",
        "#tokenize the tweets \n",
        "tweet_tokens= twitter_samples.tokenized('positive_tweets.json')\n",
        "#tag the tokenized tweets\n",
        "tweets_tagged= pos_tag_sents(tweet_tokens)\n",
        "#set counters or accumalators \n",
        "#JJ- Adjectives; NN- Nouns\n",
        "JJ_count=0\n",
        "NN_count=0\n",
        "#Loop through the tagged tweets \n",
        "for tweet in tweets_tagged:\n",
        "    for pair in tweet:\n",
        "        tag= pair[1]\n",
        "        if tag == 'JJ':\n",
        "            JJ_count += 1\n",
        "        if tag == 'NN':\n",
        "            NN_count +=1\n",
        "print('Total number of Adjectives= ', JJ_count)\n",
        "print('Total number of Nouns= ', NN_count)"
      ],
      "metadata": {
        "colab": {
          "base_uri": "https://localhost:8080/"
        },
        "id": "EqyRmoYv8Z9m",
        "outputId": "79afe910-73e2-4071-97ef-64ee0b4fd661"
      },
      "execution_count": 25,
      "outputs": [
        {
          "output_type": "stream",
          "name": "stdout",
          "text": [
            "[nltk_data] Downloading package twitter_samples to /root/nltk_data...\n",
            "[nltk_data]   Package twitter_samples is already up-to-date!\n",
            "[nltk_data] Downloading package averaged_perceptron_tagger to\n",
            "[nltk_data]     /root/nltk_data...\n",
            "[nltk_data]   Unzipping taggers/averaged_perceptron_tagger.zip.\n",
            "Total number of Adjectives=  6094\n",
            "Total number of Nouns=  13180\n"
          ]
        }
      ]
    }
  ]
}