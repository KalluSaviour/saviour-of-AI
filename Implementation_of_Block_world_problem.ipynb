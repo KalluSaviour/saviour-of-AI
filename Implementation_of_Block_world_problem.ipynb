{
  "nbformat": 4,
  "nbformat_minor": 0,
  "metadata": {
    "colab": {
      "name": "Implementation_of_Block_world_problem.ipynb",
      "provenance": []
    },
    "kernelspec": {
      "name": "python3",
      "display_name": "Python 3"
    },
    "language_info": {
      "name": "python"
    }
  },
  "cells": [
    {
      "cell_type": "code",
      "execution_count": 7,
      "metadata": {
        "colab": {
          "base_uri": "https://localhost:8080/"
        },
        "id": "VUNdFrUhn0Pq",
        "outputId": "0ac08059-513a-4e7f-9c3a-f203b28623ef"
      },
      "outputs": [
        {
          "output_type": "stream",
          "name": "stdout",
          "text": [
            "initial stack  [['B', 'A'], ['D'], ['C']]\n",
            "goal stack  ['B', 'C', 'A', 'D']\n",
            "Step 1 [['B'], ['A'], ['D'], ['C']]\n",
            "step 2  [['B', 'C'], [' '], ['D'], ['C']]\n",
            "step 3  [['B', 'C', 'A'], [' '], [' '], ['C']]\n",
            "step 4  [['B', 'C', 'A', 'D'], [' '], [' '], [' ']]\n"
          ]
        }
      ],
      "source": [
        "stac = [['B','A'],['D'],['C']]\n",
        "finalstac = ['B','C','A','D']\n",
        "print(\"initial stack \",stac)\n",
        "print(\"goal stack \",finalstac)\n",
        "nu = 4\n",
        "intermediate = []\n",
        "def matrixIndex(st, arg):\n",
        "        for i in range(len(st)):\n",
        "                for j in range(len(st[i])):\n",
        "                        if(st[i][j]==arg):\n",
        "                                return(i,j)\n",
        "for i in stac:\n",
        "        for j in i:\n",
        "                j = list(j)\n",
        "                intermediate.append(j)\n",
        "print(\"Step 1\", intermediate)\n",
        "for i in range (0,len(finalstac)):\n",
        "        t = finalstac[i]\n",
        "        if(i==0):\n",
        "                flagm,flagn = matrixIndex(intermediate,t)\n",
        "                continue\n",
        "        else:\n",
        "                intermediate[flagm].append(t)\n",
        "                indm,indn = matrixIndex(intermediate,t)\n",
        "                intermediate[indn][indm]=\" \"\n",
        "                print(\"step \"+str(i+1)+\" \",intermediate)"
      ]
    }
  ]
}