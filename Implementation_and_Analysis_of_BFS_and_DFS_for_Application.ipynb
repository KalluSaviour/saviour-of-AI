{
  "nbformat": 4,
  "nbformat_minor": 0,
  "metadata": {
    "colab": {
      "name": "Implementation and Analysis of BFS and DFS for Application.ipynb",
      "provenance": []
    },
    "kernelspec": {
      "name": "python3",
      "display_name": "Python 3"
    },
    "language_info": {
      "name": "python"
    }
  },
  "cells": [
    {
      "cell_type": "code",
      "execution_count": 24,
      "metadata": {
        "colab": {
          "base_uri": "https://localhost:8080/"
        },
        "id": "17aHN5bmBO2O",
        "outputId": "b2425b24-8803-4377-bdf2-b995aae0669c"
      },
      "outputs": [
        {
          "output_type": "stream",
          "name": "stdout",
          "text": [
            "Breadth first search\n",
            "S A B C D G H E F I K \n",
            "Depth first search\n",
            "S A C E K F D B G I H "
          ]
        }
      ],
      "source": [
        "graph = {\n",
        "  'S': ['A', 'B'],\n",
        "  'A': ['C', 'D'],\n",
        "  'B': ['G','H'],\n",
        "  'C': ['E','F'], 'D': [],\n",
        "  'G': ['I'],\n",
        "  'H': [],\n",
        "  'E': ['K'],\n",
        "  'F': [],\n",
        "  'I': [],\n",
        "  'K': []\n",
        "}\n",
        "visited=[] \n",
        "queue=[]\n",
        "def bfs(visited,graph,node): \n",
        "  visited.append(node) \n",
        "  queue.append(node)\n",
        "  while queue: \n",
        "    P=queue.pop(0) \n",
        "    print(P,end=\" \")\n",
        "    for neighbour in graph[P]:\n",
        "      if neighbour not in visited: \n",
        "        visited.append(neighbour) \n",
        "        queue.append(neighbour)\n",
        "avisit=set()\n",
        "def dfs(avisit,graph,node): \n",
        "  if node not in avisit:\n",
        "    print(node,end=\" \") \n",
        "    avisit.add(node)\n",
        "  for neighbour in graph[node]: \n",
        "    dfs(avisit,graph,neighbour)\n",
        "print(\"Breadth first search\") \n",
        "bfs(visited,graph,'S') \n",
        "print(\"\\nDepth first search\") \n",
        "dfs(avisit,graph,'S')"
      ]
    }
  ]
}