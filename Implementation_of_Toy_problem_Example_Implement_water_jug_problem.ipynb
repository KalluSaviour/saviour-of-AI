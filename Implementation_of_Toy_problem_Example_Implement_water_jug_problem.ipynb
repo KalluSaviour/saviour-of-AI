{
  "nbformat": 4,
  "nbformat_minor": 0,
  "metadata": {
    "colab": {
      "name": "Implementation of Toy problem Example-Implement water jug problem.ipynb",
      "provenance": []
    },
    "kernelspec": {
      "name": "python3",
      "display_name": "Python 3"
    },
    "language_info": {
      "name": "python"
    }
  },
  "cells": [
    {
      "cell_type": "code",
      "execution_count": null,
      "metadata": {
        "id": "17aHN5bmBO2O"
      },
      "outputs": [],
      "source": [
        "print(\"Water jug problem\")\n",
        "x = int(input(\"Enter X: \"))\n",
        "y = int(input(\"Enter Y: \"))\n",
        "while True:\n",
        "  rn=int(input(\"Enter the rule no. : \")) \n",
        "  if rn == 2:\n",
        "    if y<3:\n",
        "      x=0\n",
        "      y=3\n",
        "  if rn == 3:\n",
        "    if x>0:\n",
        "      x=0\n",
        "      y=3\n",
        "  if rn == 5:\n",
        "    if x+y>4:\n",
        "      x=4\n",
        "      y=y-(4-x)\n",
        "  if rn == 7:\n",
        "    if x+y<4:\n",
        "      x=x+y\n",
        "      y=0\n",
        "  if rn == 9:\n",
        "    x=2\n",
        "    y=0\n",
        "  print(\"X=\",x)\n",
        "  print(\"Y=\",y)\n",
        "  if x==2:\n",
        "    print(\"The result is a goal state\")\n",
        "    break"
      ]
    }
  ]
}