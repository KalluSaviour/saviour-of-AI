{
  "nbformat": 4,
  "nbformat_minor": 0,
  "metadata": {
    "colab": {
      "name": "Implement Minimax Algorithm.ipynb",
      "provenance": []
    },
    "kernelspec": {
      "name": "python3",
      "display_name": "Python 3"
    },
    "language_info": {
      "name": "python"
    }
  },
  "cells": [
    {
      "cell_type": "code",
      "source": [
        "import math\n",
        "def minimax (curDepth, nodeIndex, maxTurn, scores,targetDepth): \n",
        "  if(curDepth==targetDepth):\n",
        "    return scores[nodeIndex] \n",
        "  if(maxTurn):\n",
        "    return max(minimax(curDepth+1, nodeIndex*2,False,scores,targetDepth),minimax(curDepth+1, nodeIndex*2+1,False,scores,targetDepth))\n",
        "  else:\n",
        "    return min(minimax(curDepth+1, nodeIndex*2,True,scores,targetDepth),minimax(curDepth+1, nodeIndex*2+1,True,scores,targetDepth))\n",
        "scores=[-1,4,2,6,-3,-5,0,7]\n",
        "treeDepth=math.log(len(scores),2) \n",
        "print(\"Optimal value is : \",end=\" \") \n",
        "print(minimax(0,0,True,scores,treeDepth))\n"
      ],
      "metadata": {
        "colab": {
          "base_uri": "https://localhost:8080/"
        },
        "id": "CClDuUQhj6nB",
        "outputId": "9a4b3445-2ccf-4976-d196-926d1292b216"
      },
      "execution_count": 57,
      "outputs": [
        {
          "output_type": "stream",
          "name": "stdout",
          "text": [
            "Optimal value is :  4\n"
          ]
        }
      ]
    }
  ]
}