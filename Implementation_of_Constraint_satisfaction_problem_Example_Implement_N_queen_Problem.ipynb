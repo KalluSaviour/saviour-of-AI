{
  "nbformat": 4,
  "nbformat_minor": 0,
  "metadata": {
    "colab": {
      "name": "Implementation of Constraint satisfaction problem Example: Implement N- queen Problem.ipynb",
      "provenance": []
    },
    "kernelspec": {
      "name": "python3",
      "display_name": "Python 3"
    },
    "language_info": {
      "name": "python"
    }
  },
  "cells": [
    {
      "cell_type": "code",
      "execution_count": 18,
      "metadata": {
        "colab": {
          "base_uri": "https://localhost:8080/"
        },
        "id": "17aHN5bmBO2O",
        "outputId": "544fa898-dd85-4d7f-82b5-80bf2bb8ff18"
      },
      "outputs": [
        {
          "output_type": "stream",
          "name": "stdout",
          "text": [
            "Enter Number Of Queens : 8\n",
            "Q 0 0 0 0 0 0 0 \n",
            "0 0 0 0 0 0 Q 0 \n",
            "0 0 0 0 Q 0 0 0 \n",
            "0 0 0 0 0 0 0 Q \n",
            "0 Q 0 0 0 0 0 0 \n",
            "0 0 0 Q 0 0 0 0 \n",
            "0 0 0 0 0 Q 0 0 \n",
            "0 0 Q 0 0 0 0 0 \n"
          ]
        }
      ],
      "source": [
        "global N\n",
        "N = int(input(\"Enter Number Of Queens : \"))\n",
        "ld = [0] * 30\n",
        "rd = [0] * 30\n",
        "cl = [0] * 30\n",
        "def printSolution(board):\n",
        "\tfor i in range(N):\n",
        "\t\tfor j in range(N):\n",
        "\t\t\tprint(board[i][j], end = \" \")\n",
        "\t\tprint()\n",
        "def solveNQUtil(board, col):\n",
        "\tif (col >= N):\n",
        "\t\treturn True\n",
        "\tfor i in range(N):\n",
        "\t\tif ((ld[i - col + N - 1] != 1 and\n",
        "\t\t\trd[i + col] != 1) and cl[i] != 1):\n",
        "\t\t\tboard[i][col] = 'Q'\n",
        "\t\t\tld[i - col + N - 1] = rd[i + col] = cl[i] = 1\n",
        "\t\t\tif (solveNQUtil(board, col + 1)):\n",
        "\t\t\t\treturn True\n",
        "\t\t\tboard[i][col] = 0 # BACKTRACK\n",
        "\t\t\tld[i - col + N - 1] = rd[i + col] = cl[i] = 0\n",
        "\treturn False\n",
        "def solveNQ():\n",
        "\tboard = [[0 for i in range (N)]for j in range(N)]\n",
        "\tif (solveNQUtil(board, 0) == False):\n",
        "\t\tprintf(\"Solution does not exist\")\n",
        "\t\treturn False\n",
        "\tprintSolution(board)\n",
        "solveNQ()"
      ]
    }
  ]
}