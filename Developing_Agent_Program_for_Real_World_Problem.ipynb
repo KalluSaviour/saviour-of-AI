{
  "nbformat": 4,
  "nbformat_minor": 0,
  "metadata": {
    "colab": {
      "name": "Developing_Agent_Program_for_Real_World_Problem.ipynb",
      "provenance": []
    },
    "kernelspec": {
      "name": "python3",
      "display_name": "Python 3"
    },
    "language_info": {
      "name": "python"
    }
  },
  "cells": [
    {
      "cell_type": "code",
      "execution_count": 13,
      "metadata": {
        "colab": {
          "base_uri": "https://localhost:8080/"
        },
        "id": "17aHN5bmBO2O",
        "outputId": "534b5b65-992a-44f2-e351-7e7808398595"
      },
      "outputs": [
        {
          "output_type": "stream",
          "name": "stdout",
          "text": [
            "{'A': 0, 'B': 1}\n",
            "Vacuum is randomly placed at Location A\n",
            "Location B is Dirty.\n",
            "Moving to Location B...\n",
            "Location B has been Cleaned. :D\n",
            "{'A': 0, 'B': 0}\n",
            "Performance Measurement: 0\n"
          ]
        }
      ],
      "source": [
        "import random\n",
        "class Environment(object): \n",
        "  def __init__(self):\n",
        "    self.locationCondition = {'A': '0', 'B': '0'} \n",
        "    self.locationCondition['A'] = random.randint(0, 1) \n",
        "    self.locationCondition['B'] = random.randint(0, 1)\n",
        "class SimpleReflexVacuumAgent(Environment): \n",
        "  def __init__(self, Environment):\n",
        "    print (Environment.locationCondition)\n",
        "    Score = 0\n",
        "    vacuumLocation = random.randint(0, 1) \n",
        "    if vacuumLocation == 0:\n",
        "      print (\"Vacuum is randomly placed at Location A\") \n",
        "      if Environment.locationCondition['A'] == 1:\n",
        "        print (\"Location A is Dirty. \") \n",
        "        Environment.locationCondition['A'] = 0;\n",
        "        Score += 1\n",
        "        print (\"Location A has been Cleaned. :D\") \n",
        "        if Environment.locationCondition['B'] == 1:\n",
        "          print (\"Location B is Dirty.\") \n",
        "          print (\"Moving to Location B...\") \n",
        "          Score -= 1\n",
        "          Environment.locationCondition['B'] = 0;\n",
        "          Score += 1\n",
        "          print (\"Location B has been Cleaned :D.\")\n",
        "      else:\n",
        "        if Environment.locationCondition['B'] == 1: \n",
        "          print (\"Location B is Dirty.\")\n",
        "          Score -= 1\n",
        "          print (\"Moving to Location B...\") \n",
        "          Environment.locationCondition['B'] = 0;\n",
        "          Score += 1\n",
        "          print (\"Location B has been Cleaned. :D\") \n",
        "        elif vacuumLocation == 1:\n",
        "          print (\"Vacuum is randomly placed at Location B. \") \n",
        "          if Environment.locationCondition['B'] == 1:\n",
        "            print (\"Location B is Dirty\") \n",
        "            Environment.locationCondition['B'] = 0;\n",
        "            Score += 1\n",
        "            print (\"Location B has been Cleaned. :D\")\n",
        "          if Environment.locationCondition['A'] == 1: \n",
        "            print (\"Location A is Dirty\")\n",
        "            Score -= 1\n",
        "            print (\"Moving to Location A\") \n",
        "            Environment.locationCondition['A'] = 0;\n",
        "            Score += 1\n",
        "            print (\"Location A has been Cleaned. :D\")\n",
        "        else:\n",
        "            if Environment.locationCondition['A'] == 1: \n",
        "              print (\"Location A is Dirty\")\n",
        "              print (\"Moving to Location A\") \n",
        "              Score -= 1\n",
        "              Environment.locationCondition['A'] = 0;\n",
        "              Score += 1\n",
        "              print (\"Location A has been Cleaned\") \n",
        "        print (Environment.locationCondition)\n",
        "        print (\"Performance Measurement: \" + str(Score)) \n",
        "theEnvironment = Environment()\n",
        "theVacuum = SimpleReflexVacuumAgent(theEnvironment)\n"
      ]
    }
  ]
}