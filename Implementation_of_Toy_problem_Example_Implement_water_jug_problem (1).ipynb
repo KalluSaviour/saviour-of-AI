{
  "nbformat": 4,
  "nbformat_minor": 0,
  "metadata": {
    "colab": {
      "name": "Implementation of Toy problem Example-Implement water jug problem.ipynb",
      "provenance": []
    },
    "kernelspec": {
      "name": "python3",
      "display_name": "Python 3"
    },
    "language_info": {
      "name": "python"
    }
  },
  "cells": [
    {
      "cell_type": "code",
      "execution_count": 4,
      "metadata": {
        "colab": {
          "base_uri": "https://localhost:8080/"
        },
        "id": "17aHN5bmBO2O",
        "outputId": "50628d44-3227-4e1a-ad10-9445ec364887"
      },
      "outputs": [
        {
          "output_type": "stream",
          "name": "stdout",
          "text": [
            "Water jug problem\n",
            "Enter X: 0\n",
            "Enter Y: 0\n",
            "Enter the rule no. : 2\n",
            "X= 0\n",
            "Y= 3\n",
            "Enter the rule no. : 3\n",
            "X= 0\n",
            "Y= 3\n",
            "Enter the rule no. : 5\n",
            "X= 0\n",
            "Y= 3\n",
            "Enter the rule no. : 7\n",
            "X= 3\n",
            "Y= 0\n",
            "Enter the rule no. : 9\n",
            "X= 2\n",
            "Y= 0\n",
            "The result is a goal state\n"
          ]
        }
      ],
      "source": [
        "print(\"Water jug problem\")\n",
        "x = int(input(\"Enter X: \"))\n",
        "y = int(input(\"Enter Y: \"))\n",
        "while True:\n",
        "  rn=int(input(\"Enter the rule no. : \")) \n",
        "  if rn == 2:\n",
        "    if y<3:\n",
        "      x=0\n",
        "      y=3\n",
        "  if rn == 3:\n",
        "    if x>0:\n",
        "      x=0\n",
        "      y=3\n",
        "  if rn == 5:\n",
        "    if x+y>4:\n",
        "      x=4\n",
        "      y=y-(4-x)\n",
        "  if rn == 7:\n",
        "    if x+y<4:\n",
        "      x=x+y\n",
        "      y=0\n",
        "  if rn == 9:\n",
        "    x=2\n",
        "    y=0\n",
        "  print(\"X=\",x)\n",
        "  print(\"Y=\",y)\n",
        "  if x==2:\n",
        "    print(\"The result is a goal state\")\n",
        "    break\n",
        "# Water jug problem\n",
        "# Enter X: 0\n",
        "# Enter Y: 0\n",
        "# Enter the rule no. : 2\n",
        "# X= 0\n",
        "# Y= 3\n",
        "# Enter the rule no. : 3\n",
        "# X= 0\n",
        "# Y= 3\n",
        "# Enter the rule no. : 5\n",
        "# X= 0\n",
        "# Y= 3\n",
        "# Enter the rule no. : 7\n",
        "# X= 3\n",
        "# Y= 0\n",
        "# Enter the rule no. : 9\n",
        "# X= 2\n",
        "# Y= 0\n",
        "# The result is a goal state "
      ]
    }
  ]
}
