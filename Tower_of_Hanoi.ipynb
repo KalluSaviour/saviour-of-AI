{
  "nbformat": 4,
  "nbformat_minor": 0,
  "metadata": {
    "colab": {
      "name": "Tower_of_Hanoi.ipynb",
      "provenance": []
    },
    "kernelspec": {
      "name": "python3",
      "display_name": "Python 3"
    },
    "language_info": {
      "name": "python"
    }
  },
  "cells": [
    {
      "cell_type": "code",
      "execution_count": 1,
      "metadata": {
        "colab": {
          "base_uri": "https://localhost:8080/"
        },
        "id": "gnt51l-rY2T9",
        "outputId": "1d97c640-2388-454a-877d-f7bc99c1ee1b"
      },
      "outputs": [
        {
          "output_type": "stream",
          "name": "stdout",
          "text": [
            "Move disk 1 from rod A to rod B\n",
            "Move disk 2 from rod A to rod C\n",
            "Move disk 1 from rod B to rod C\n",
            "Move disk 3 from rod A to rod B\n",
            "Move disk 1 from rod C to rod A\n",
            "Move disk 2 from rod C to rod B\n",
            "Move disk 1 from rod A to rod B\n",
            "Move disk 4 from rod A to rod C\n",
            "Move disk 1 from rod B to rod C\n",
            "Move disk 2 from rod B to rod A\n",
            "Move disk 1 from rod C to rod A\n",
            "Move disk 3 from rod B to rod C\n",
            "Move disk 1 from rod A to rod B\n",
            "Move disk 2 from rod A to rod C\n",
            "Move disk 1 from rod B to rod C\n"
          ]
        }
      ],
      "source": [
        "def TowerOfHanoi(n , from_rod, to_rod, aux_rod):\n",
        "\tif n == 0:\n",
        "\t\treturn\n",
        "\tTowerOfHanoi(n-1, from_rod, aux_rod, to_rod)\n",
        "\tprint(\"Move disk\",n,\"from rod\",from_rod,\"to rod\",to_rod)\n",
        "\tTowerOfHanoi(n-1, aux_rod, to_rod, from_rod)\n",
        "n = 4\n",
        "TowerOfHanoi(n, 'A', 'C', 'B')"
      ]
    }
  ]
}