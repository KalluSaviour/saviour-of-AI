{
  "cells": [
    {
      "cell_type": "code",
      "execution_count": 21,
      "metadata": {
        "id": "erSZcykkVVoO",
        "colab": {
          "base_uri": "https://localhost:8080/",
          "height": 754
        },
        "outputId": "72009150-b0ae-4091-e25c-452bdfa3d9da"
      },
      "outputs": [
        {
          "output_type": "stream",
          "name": "stdout",
          "text": [
            "Model: \"sequential_1\"\n",
            "_________________________________________________________________\n",
            " Layer (type)                Output Shape              Param #   \n",
            "=================================================================\n",
            " inputLayer (Flatten)        (None, 784)               0         \n",
            "                                                                 \n",
            " hiddenLayer1 (Dense)        (None, 300)               235500    \n",
            "                                                                 \n",
            " hiddenLayer2 (Dense)        (None, 100)               30100     \n",
            "                                                                 \n",
            " outputLayer (Dense)         (None, 10)                1010      \n",
            "                                                                 \n",
            "=================================================================\n",
            "Total params: 266,610\n",
            "Trainable params: 266,610\n",
            "Non-trainable params: 0\n",
            "_________________________________________________________________\n",
            "Epoch 1/5\n",
            "1719/1719 [==============================] - 7s 4ms/step - loss: 0.6050 - accuracy: 0.8413 - val_loss: 0.3033 - val_accuracy: 0.9174\n",
            "Epoch 2/5\n",
            "1719/1719 [==============================] - 6s 4ms/step - loss: 0.2859 - accuracy: 0.9186 - val_loss: 0.2381 - val_accuracy: 0.9356\n",
            "Epoch 3/5\n",
            "1719/1719 [==============================] - 6s 3ms/step - loss: 0.2339 - accuracy: 0.9330 - val_loss: 0.2048 - val_accuracy: 0.9416\n",
            "Epoch 4/5\n",
            "1719/1719 [==============================] - 6s 3ms/step - loss: 0.2001 - accuracy: 0.9428 - val_loss: 0.1816 - val_accuracy: 0.9490\n",
            "Epoch 5/5\n",
            "1719/1719 [==============================] - 6s 4ms/step - loss: 0.1749 - accuracy: 0.9495 - val_loss: 0.1591 - val_accuracy: 0.9562\n"
          ]
        },
        {
          "output_type": "display_data",
          "data": {
            "text/plain": [
              "<Figure size 432x288 with 1 Axes>"
            ],
            "image/png": "[encoded data removed]"
          },
          "metadata": {
            "needs_background": "light"
          }
        }
      ],
      "source": [
        "import numpy as np\n",
        "import matplotlib.pyplot as plt\n",
        "import tensorflow as tf\n",
        "import pandas as pd\n",
        "mnist = tf.keras.datasets.mnist\n",
        "(X_train_total, Y_train_total),(X_test,Y_test) = mnist.load_data()\n",
        "X_train_total.shape\n",
        "Y_train_total.shape\n",
        "X_train_total.dtype\n",
        "X_valid, X_train = X_train_total[:5000]/255. , X_train_total[5000:]/255.  \n",
        "Y_valid, Y_train = Y_train_total[:5000] , Y_train_total[5000:] \n",
        "plt.imshow(X_train[0], cmap = \"binary\")\n",
        "LAYERS = [tf.keras.layers.Flatten(input_shape=[28, 28], name=\"inputLayer\"),\n",
        "          tf.keras.layers.Dense(300, activation=\"relu\", name=\"hiddenLayer1\"),\n",
        "          tf.keras.layers.Dense(100, activation=\"relu\", name=\"hiddenLayer2\"),\n",
        "          tf.keras.layers.Dense(10, activation=\"softmax\", name=\"outputLayer\")]\n",
        "model_clf = tf.keras.models.Sequential(LAYERS)\n",
        "model_clf.layers\n",
        "model_clf.summary()\n",
        "LOSS_FUNCTION = \"sparse_categorical_crossentropy\" # use => tf.losses.sparse_categorical_crossentropy\n",
        "OPTIMIZER = \"SGD\" # or use with custom learning rate=> tf.keras.optimizers.SGD(0.02)\n",
        "METRICS = [\"accuracy\"]\n",
        "model_clf.compile(loss=LOSS_FUNCTION,\n",
        "              optimizer=OPTIMIZER,\n",
        "              metrics=METRICS)\n",
        "EPOCHS = 5\n",
        "VALIDATION_SET = (X_valid, Y_valid)\n",
        "\n",
        "history = model_clf.fit(X_train, Y_train, epochs=EPOCHS,\n",
        "                    validation_data=VALIDATION_SET)"
      ]
    }
  ],
  "metadata": {
    "accelerator": "GPU",
    "colab": {
      "name": "ANN2.ipynb",
      "provenance": []
    },
    "kernelspec": {
      "display_name": "Python 3",
      "name": "python3"
    },
    "language_info": {
      "name": "python"
    }
  },
  "nbformat": 4,
  "nbformat_minor": 0
}